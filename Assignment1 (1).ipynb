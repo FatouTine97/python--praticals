{
 "cells": [
  {
   "cell_type": "markdown",
   "metadata": {},
   "source": [
    "# Init2Py-01 – Conditionals & For loops"
   ]
  },
  {
   "cell_type": "code",
   "execution_count": null,
   "metadata": {},
   "outputs": [],
   "source": [
    "# question 1 (i)\n",
    "n = int(input(\"Please enter a natural number n : \"))\n",
    "oddsum = 0\n",
    "for i in range(n):\n",
    "    if(i % 2 != 0):\n",
    "        oddsum = oddsum + i +3\n",
    "print(\"The sum of odd numbers + 3 from 0 to {0} is {1}\".format(i, oddsum))"
   ]
  },
  {
   "cell_type": "code",
   "execution_count": 8,
   "metadata": {},
   "outputs": [
    {
     "name": "stdout",
     "output_type": "stream",
     "text": [
      "Please enter a natural number n : 5\n",
      "The product of even Numbers + 3 from 0 to 4 is 35\n"
     ]
    }
   ],
   "source": [
    "#question 1(ii)\n",
    "n = int(input(\"Please enter a natural number n : \"))\n",
    "evenproduct = 1\n",
    "for i in range(n):\n",
    "    if(i % 2 == 0) and (i!=0):\n",
    "        evenproduct *=(i + 3)\n",
    "print(\"The product of even Numbers + 3 from 0 to {0} is {1}\".format(i, evenproduct))"
   ]
  },
  {
   "cell_type": "raw",
   "metadata": {},
   "source": [
    "2. Write a program that reads the number of the day of the week (from 0 to 6). If it is a\n",
    "working day, then the program will write the name of the corresponding day. Otherwise,\n",
    "it will write the word \"Weekend\"."
   ]
  },
  {
   "cell_type": "code",
   "execution_count": 10,
   "metadata": {},
   "outputs": [
    {
     "name": "stdout",
     "output_type": "stream",
     "text": [
      "Please give a number corresponding to one day : 6\n",
      "weekend\n"
     ]
    }
   ],
   "source": [
    "d=int(input(\"Please give a number corresponding to one day : \"))\n",
    "day=[\"Monday\", \"Tuesday\", \"Wednesday\", \"Thursday\", \"Friday\", \"Saturday\", \"Sunday\"]\n",
    "if (d<=4):\n",
    "    print('It is a working day, ', day[d])\n",
    "elif (d<=6):\n",
    "    print(\"weekend\")"
   ]
  },
  {
   "cell_type": "raw",
   "metadata": {},
   "source": [
    " 3 Make a program that, given a month number (from 0 to 11), indicates how many days it\n",
    "has (28, 30 or 31), ignoring the leap years."
   ]
  },
  {
   "cell_type": "code",
   "execution_count": 11,
   "metadata": {},
   "outputs": [
    {
     "name": "stdout",
     "output_type": "stream",
     "text": [
      "Please give a number corresponding to one month :11\n",
      "The month  December has 31 days\n"
     ]
    }
   ],
   "source": [
    "m=int(input('Please give a number corresponding to one month :'))\n",
    "month=['January', 'February', 'March', 'April', 'May', 'Jun', 'July', 'August', 'September', 'October', 'November', 'December']\n",
    "if (m==1):\n",
    "    print('The month ',month[m], 'has 28 days')\n",
    "elif (m==3) or (m==5) or (m==8) or (m==10):\n",
    "    print('The month ',month[m], 'has 30 days')\n",
    "elif (m==0) or (m==2) or (m==4) or (m==6) or (m==7) or (m==9) or (m==11):\n",
    "    print('The month ', month[m], 'has 31 days')"
   ]
  },
  {
   "cell_type": "raw",
   "metadata": {},
   "source": [
    "4)Write two versions of python code that displays your name 3 times. One version with a\n",
    "\"for loop\" and another version with a \"while loop\"."
   ]
  },
  {
   "cell_type": "code",
   "execution_count": 12,
   "metadata": {},
   "outputs": [
    {
     "name": "stdout",
     "output_type": "stream",
     "text": [
      "Fatou TINE\n",
      "Fatou TINE\n",
      "Fatou TINE\n"
     ]
    }
   ],
   "source": [
    "for i in range(3):\n",
    "    print(\"Fatou TINE\")"
   ]
  },
  {
   "cell_type": "code",
   "execution_count": 13,
   "metadata": {},
   "outputs": [
    {
     "name": "stdout",
     "output_type": "stream",
     "text": [
      "Fatou Tine\n",
      "Fatou Tine\n",
      "Fatou Tine\n"
     ]
    }
   ],
   "source": [
    "i=1;\n",
    "while (i<=3):\n",
    "    print(\"Fatou Tine\")\n",
    "    i+=1"
   ]
  },
  {
   "cell_type": "raw",
   "metadata": {},
   "source": [
    "4)Given two numbers a0 and a1, the Fibonacci sequence they generate is constructed from\n",
    "the recursion formula an+1 = an + an−1. Calculate the first 15 terms of a Fibonacci\n",
    "sequence, asking the user the initial values."
   ]
  },
  {
   "cell_type": "code",
   "execution_count": 15,
   "metadata": {},
   "outputs": [
    {
     "name": "stdout",
     "output_type": "stream",
     "text": [
      "Please enter the number of terms? 15\n",
      "Please enter the first initial value 0\n",
      "Please enter the second initial value 1\n",
      "The first 15 terms of a Fibonacci sequence are : \n",
      "0\n",
      "1\n",
      "1\n",
      "2\n",
      "3\n",
      "5\n",
      "8\n",
      "13\n",
      "21\n",
      "34\n",
      "55\n",
      "89\n",
      "144\n",
      "233\n",
      "377\n"
     ]
    }
   ],
   "source": [
    "nterms = int(input(\"Please enter the number of terms? \"))\n",
    "a0=int(input('Please enter the first initial value '))\n",
    "a1=int(input('Please enter the second initial value '))\n",
    "i = 0\n",
    "if nterms <= 0:\n",
    "    print(\"Please enter a positive integer\")\n",
    "elif nterms == 1:\n",
    "    print(\"Fibonacci sequence upto\",nterms,\":\")\n",
    "    print(a0)\n",
    "else:\n",
    "    print(\"The first\", nterms, \"terms of a Fibonacci sequence are : \")\n",
    "    while i < nterms:\n",
    "        print(a0)\n",
    "        an = a0 + a1\n",
    "        a0 = a1\n",
    "        a1 = an\n",
    "        i += 1"
   ]
  },
  {
   "cell_type": "raw",
   "metadata": {},
   "source": [
    "6. Compute the first 30 terms of the sequence defined by $2x_{n+2} − x_{n+1} − 6x_n = 0$ sequence, given any two initial values $x_0$ and $x_1$"
   ]
  },
  {
   "cell_type": "code",
   "execution_count": 17,
   "metadata": {},
   "outputs": [
    {
     "name": "stdout",
     "output_type": "stream",
     "text": [
      "Please enter the number of terms 30\n",
      "Please enter the first initial value 0\n",
      "Please enter the second initial value 1\n",
      "The first 30 terms the sequence are : \n",
      "0\n",
      "1\n",
      "0.5\n",
      "3.25\n",
      "3.125\n",
      "11.3125\n",
      "15.03125\n",
      "41.453125\n",
      "65.8203125\n",
      "157.26953125\n",
      "276.095703125\n",
      "609.8564453125\n",
      "1133.21533203125\n",
      "2396.177001953125\n",
      "4597.7344970703125\n",
      "9487.398254394531\n",
      "18536.902618408203\n",
      "37730.646072387695\n",
      "74476.03089141846\n",
      "150429.9536628723\n",
      "298643.0695056915\n",
      "600611.3957414627\n",
      "1196234.906387806\n",
      "2399951.640418291\n",
      "4788680.539372563\n",
      "9594195.190941155\n",
      "19163139.213588268\n",
      "38364155.1796176\n",
      "76671495.2305736\n",
      "153428213.15413958\n"
     ]
    }
   ],
   "source": [
    "nterms = int(input(\"Please enter the number of terms \"))\n",
    "x0=int(input('Please enter the first initial value '))\n",
    "x1=int(input('Please enter the second initial value '))\n",
    "i = 0\n",
    "if nterms <= 0:\n",
    "    print(\"Please enter a positive integer\")\n",
    "elif nterms == 1:\n",
    "    print(\"The sequence upto\",nterms,\":\")\n",
    "    print(x0)\n",
    "else:\n",
    "    print(\"The first\", nterms, \"terms the sequence are : \")\n",
    "    while i < nterms:\n",
    "        print(x0)\n",
    "        xn = (6*x0 + x1)/2\n",
    "        x0 = x1\n",
    "        x1 = xn\n",
    "        i += 1"
   ]
  },
  {
   "cell_type": "raw",
   "metadata": {},
   "source": [
    "7. a) Write python code to determine whether or not a year is a leap year. Be sure you\n",
    "know what a leap year is."
   ]
  },
  {
   "cell_type": "code",
   "execution_count": 18,
   "metadata": {},
   "outputs": [
    {
     "name": "stdout",
     "output_type": "stream",
     "text": [
      "Please enter the year to be checked: 2021\n",
      "This year isn't a leap year!\n"
     ]
    }
   ],
   "source": [
    "year=int(input(\"Please enter the year to be checked: \"))\n",
    "if(year%4==0 and year%100!=0 or year%400==0):\n",
    "    print(\"This year is a leap year!\")\n",
    "else:\n",
    "    print(\"This year isn't a leap year!\")"
   ]
  },
  {
   "cell_type": "raw",
   "metadata": {},
   "source": [
    "b) Write the code using only logical operators, i.e. no conditional branching."
   ]
  },
  {
   "cell_type": "code",
   "execution_count": 22,
   "metadata": {},
   "outputs": [
    {
     "name": "stdout",
     "output_type": "stream",
     "text": [
      "Please enter the year to be checked : 2016\n",
      "2016 is a leap year? \n"
     ]
    },
    {
     "data": {
      "text/plain": [
       "True"
      ]
     },
     "execution_count": 22,
     "metadata": {},
     "output_type": "execute_result"
    }
   ],
   "source": [
    "year=int(input(\"Please enter the year to be checked : \"))\n",
    "print(year, \"is a leap year? \")\n",
    "year%4==0 and year%100!=0 or year%400==0"
   ]
  },
  {
   "cell_type": "raw",
   "metadata": {},
   "source": [
    "8. a) Write python code that computes the sum of the square of the first n natural numbers.\n",
    "One version with a \"for loop\" and another version with a \"while loop\"."
   ]
  },
  {
   "cell_type": "raw",
   "metadata": {},
   "source": [
    "(i) With a \"for loop\""
   ]
  },
  {
   "cell_type": "code",
   "execution_count": 24,
   "metadata": {},
   "outputs": [
    {
     "name": "stdout",
     "output_type": "stream",
     "text": [
      " Please enter a natural number n : 4\n",
      "The sum of the square of the first 4 natural numbers is  30\n"
     ]
    }
   ],
   "source": [
    "n = int(input(\" Please enter a natural number n : \"))\n",
    "nsum = 0\n",
    "for i in range(n+1):\n",
    "        nsum = nsum + i**2\n",
    "print(\"The sum of the square of the first\", n, \"natural numbers is \", nsum)"
   ]
  },
  {
   "cell_type": "raw",
   "metadata": {},
   "source": [
    "(ii) With a while loop"
   ]
  },
  {
   "cell_type": "code",
   "execution_count": null,
   "metadata": {},
   "outputs": [],
   "source": [
    "n = int(input(\" Please enter a natural number n : \"))\n",
    "i=0;\n",
    "nsum=0\n",
    "while (i<=n):\n",
    "    nsum+=i**2\n",
    "    i+=1\n",
    "print(\"The sum of the square of the first\", n, \"natural numbers is\", nsum) "
   ]
  },
  {
   "cell_type": "raw",
   "metadata": {},
   "source": [
    "b) Write python code that prints, for a natural number M, the smallest natural number\n",
    "n such that 12 +22 +· · ·+n2 ≥ M: One version with a \"for loop\" and another version\n",
    "with a \"while loop"
   ]
  },
  {
   "cell_type": "raw",
   "metadata": {},
   "source": [
    "(i) With a \"for loop\""
   ]
  },
  {
   "cell_type": "code",
   "execution_count": 25,
   "metadata": {},
   "outputs": [
    {
     "name": "stdout",
     "output_type": "stream",
     "text": [
      "Please enter a natural number M : 4\n",
      "The smallest natural number n is  2\n"
     ]
    }
   ],
   "source": [
    "M = int(input(\"Please enter a natural number M : \"))\n",
    "s=0\n",
    "l=[]\n",
    "for i in range(1, M+1):\n",
    "    s=s+i**2\n",
    "    if M<=s:\n",
    "        l.append(i)\n",
    "print(\"The smallest natural number n is \", l[0])   "
   ]
  },
  {
   "cell_type": "raw",
   "metadata": {},
   "source": [
    "(ii) With a \"while loop\""
   ]
  },
  {
   "cell_type": "code",
   "execution_count": 26,
   "metadata": {},
   "outputs": [
    {
     "name": "stdout",
     "output_type": "stream",
     "text": [
      "Please enter a natural number M : 4\n",
      "The smallest natural number n is 2\n"
     ]
    }
   ],
   "source": [
    "M = int(input(\"Please enter a natural number M : \"))\n",
    "s=0\n",
    "i=0\n",
    "while(i<=M):\n",
    "    s=s+i**2\n",
    "    if M<=s:\n",
    "        print(\"The smallest natural number n is\", i)\n",
    "        break\n",
    "    i+=1    "
   ]
  },
  {
   "cell_type": "raw",
   "metadata": {},
   "source": [
    "9)a.Write python code that prints all the divisors of a given natural number"
   ]
  },
  {
   "cell_type": "code",
   "execution_count": 28,
   "metadata": {},
   "outputs": [
    {
     "name": "stdout",
     "output_type": "stream",
     "text": [
      " Please enter a natural number n : 20\n",
      "All the divisors of  20 are:\n",
      "1\n",
      "2\n",
      "4\n",
      "5\n",
      "10\n",
      "20\n"
     ]
    }
   ],
   "source": [
    "n = int(input(\" Please enter a natural number n : \"))\n",
    "print('All the divisors of ', n, 'are:')\n",
    "i=1\n",
    "while (i<=n):\n",
    "    if (n%i==0):\n",
    "        print(i)\n",
    "    i+=1"
   ]
  },
  {
   "cell_type": "raw",
   "metadata": {},
   "source": [
    "b) Read an integer number input by the user and calculate its prime factors. This will just be some of its divisors."
   ]
  },
  {
   "cell_type": "code",
   "execution_count": 29,
   "metadata": {},
   "outputs": [
    {
     "name": "stdout",
     "output_type": "stream",
     "text": [
      "Please enter an integer number n: 60\n",
      "The prime factors of  60 are: \n",
      "2\n",
      "3\n",
      "5\n"
     ]
    }
   ],
   "source": [
    "n= int(input(\"Please enter an integer number n: \"))\n",
    "print(\"The prime factors of \", n, \"are: \")\n",
    "i=1\n",
    "while (i<=n):\n",
    "    j=0\n",
    "    if (n%i==0):\n",
    "        k=1\n",
    "        while (k<=i):\n",
    "            if(i%k==0):\n",
    "                j=j+1\n",
    "            k=k+1\n",
    "        if (j==2):\n",
    "            print(i)\n",
    "    i=i+1       "
   ]
  },
  {
   "cell_type": "raw",
   "metadata": {},
   "source": [
    "10)Read an integer number n between 0 and 9 and print its multiplication table up to N where N is another natural number read by the program."
   ]
  },
  {
   "cell_type": "code",
   "execution_count": 30,
   "metadata": {},
   "outputs": [
    {
     "name": "stdout",
     "output_type": "stream",
     "text": [
      "Please enter an integer number n between 0 and 9 : n=5\n",
      "Please enter another natural number: N = 10\n",
      "5 * 1 = 5\n",
      "5 * 2 = 10\n",
      "5 * 3 = 15\n",
      "5 * 4 = 20\n",
      "5 * 5 = 25\n",
      "5 * 6 = 30\n",
      "5 * 7 = 35\n",
      "5 * 8 = 40\n",
      "5 * 9 = 45\n",
      "5 * 10 = 50\n"
     ]
    }
   ],
   "source": [
    "n =int(input(\"Please enter an integer number n between 0 and 9 : n=\"))\n",
    "N = int(input(\"Please enter another natural number: N = \"))\n",
    "i=1\n",
    "while (i<=N):\n",
    "    print(n, '*', i, '=', n*i)\n",
    "    i+=1"
   ]
  },
  {
   "cell_type": "raw",
   "metadata": {},
   "source": [
    "11.Write a program that prints all the numbers between 0 and 40 that are multiples of 3, 7 or 11."
   ]
  },
  {
   "cell_type": "code",
   "execution_count": 31,
   "metadata": {},
   "outputs": [
    {
     "name": "stdout",
     "output_type": "stream",
     "text": [
      "All the numbers between 0 and 40 that are multiples of 3, 7 or 11 are:\n",
      "3\n",
      "6\n",
      "7\n",
      "9\n",
      "11\n",
      "12\n",
      "14\n",
      "15\n",
      "18\n",
      "21\n",
      "22\n",
      "24\n",
      "27\n",
      "28\n",
      "30\n",
      "33\n",
      "35\n",
      "36\n",
      "39\n"
     ]
    }
   ],
   "source": [
    "print('All the numbers between 0 and 40 that are multiples of 3, 7 or 11 are:')\n",
    "for x in range(1,40):\n",
    "    if(x%3==0 or x%7==0 or x%11==0):\n",
    "        print(x)"
   ]
  },
  {
   "cell_type": "raw",
   "metadata": {},
   "source": [
    "12.Write python code that prints the floor of a float x. Recall that the floor of a float x is the largest integer value less than or equal to x, i.e. if E[x] is the floor of x , then it satisfies, E[x] = 1 + E[x − 1]"
   ]
  },
  {
   "cell_type": "code",
   "execution_count": 33,
   "metadata": {},
   "outputs": [
    {
     "name": "stdout",
     "output_type": "stream",
     "text": [
      "Enter a float: 12.2\n",
      "The floor of a float 12.2 is  12\n"
     ]
    }
   ],
   "source": [
    "x = float(input(\"Enter a float: \"))\n",
    "print(\"The floor of a float\", x, \"is \", int(x))"
   ]
  },
  {
   "cell_type": "raw",
   "metadata": {},
   "source": [
    "13.Given a point in the plane by its Cartesian coordinates, determine in which quadrant it is (1st, 2nd, 3rd, 4th), if it lies on an axis, or if it is the origin. Do this for several points in the same execution of the program until the user quits."
   ]
  },
  {
   "cell_type": "code",
   "execution_count": 35,
   "metadata": {},
   "outputs": [
    {
     "name": "stdout",
     "output_type": "stream",
     "text": [
      "Enter the point (x, y) or q to quit: (1,2)\n",
      "The point (1,2) is in the 1st quadrant\n",
      "Enter the point (x, y) or q to quit: (1,-2)\n",
      "The point (1,-2) is in the 2nd quadrant\n",
      "Enter the point (x, y) or q to quit: (3,5)\n",
      "The point (3,5) is in the 1st quadrant\n",
      "Enter the point (x, y) or q to quit: q\n"
     ]
    }
   ],
   "source": [
    "while True:\n",
    "    point =input(\"Enter the point (x, y) or q to quit: \")\n",
    "    if point==\"q\":\n",
    "        break\n",
    "    x=int(point[1:point.index(\",\")])\n",
    "    y=int(point[point.index(\",\")+1: point.index(\")\")])\n",
    "    if (x>0) and (y>0):\n",
    "        print(\"The point {} is in the 1st quadrant\".format(point))\n",
    "    elif (x>0) and (y<0):\n",
    "        print(\"The point {} is in the 2nd quadrant\".format(point))\n",
    "    elif (x<0) and (y<0):    \n",
    "        print(\"The point {} is in the 3rd quadrant\".format(point))\n",
    "    elif (x<0) and (y>0):    \n",
    "        print(\"The point {} is in the 4th quadrant\".format(point))\n",
    "    elif ((x==0) and (y>0)) or ((x==0) and (y<0)):\n",
    "        print(\"The point {} is in the y axis\".format(point))\n",
    "    elif ((x>0) and (y==0)) or ((x<0) and (y==0)):\n",
    "        print(\"The point {} is in the x axis\".format(point))\n",
    "    elif (x==0) and (y==0):\n",
    "        print(\"The point {} is the origin\".format(point))"
   ]
  },
  {
   "cell_type": "raw",
   "metadata": {},
   "source": [
    "15.Ask for an integer number between 0 and 9, denoted x. Once the user has entered a correct number (that is one in the range [0..10)) the program asks for a second integer number between 0 and 255, denoted max. The program continues asking for the number until it is correct (that it is in the range [0..256)). When this is done, show all multiples of x that are between 0 and max. Then, ask the user whether he/she wants to continue; if in the affirmative, ask for another couple of numbers, otherwise finish"
   ]
  },
  {
   "cell_type": "code",
   "execution_count": 36,
   "metadata": {},
   "outputs": [
    {
     "name": "stdout",
     "output_type": "stream",
     "text": [
      "Please enter an integer number between 0 and 9, x =6\n",
      "Please enter an integer number between 0 and 255, Max =15\n",
      "All multiples of 6 that are between 0 and 15 are : [6, 12]\n",
      "Type Y to continue or N to stop : no\n",
      "Finish\n"
     ]
    }
   ],
   "source": [
    "while True:\n",
    "    x= int(input('Please enter an integer number between 0 and 9, x ='))\n",
    "    if (x>=0) and (x<=9):\n",
    "        Max= int(input(\"Please enter an integer number between 0 and 255, Max =\"))\n",
    "        if (Max>=0) and (Max<=255):\n",
    "            l=[]\n",
    "            for i in range(1, Max+1):\n",
    "                if (i%x==0):\n",
    "                    l.append(i)\n",
    "            print('All multiples of', x, 'that are between 0 and', Max, 'are :', l)\n",
    "            dec= input(\"Type Y to continue or N to stop : \")\n",
    "            if (dec==\"Y\"):\n",
    "                print(\"Continue\")\n",
    "            else:\n",
    "                print(\"Finish\")\n",
    "                break"
   ]
  },
  {
   "cell_type": "code",
   "execution_count": null,
   "metadata": {},
   "outputs": [],
   "source": []
  },
  {
   "cell_type": "code",
   "execution_count": null,
   "metadata": {},
   "outputs": [],
   "source": []
  }
 ],
 "metadata": {
  "kernelspec": {
   "display_name": "Python 3",
   "language": "python",
   "name": "python3"
  },
  "language_info": {
   "codemirror_mode": {
    "name": "ipython",
    "version": 3
   },
   "file_extension": ".py",
   "mimetype": "text/x-python",
   "name": "python",
   "nbconvert_exporter": "python",
   "pygments_lexer": "ipython3",
   "version": "3.7.6"
  },
  "widgets": {
   "application/vnd.jupyter.widget-state+json": {
    "state": {},
    "version_major": 2,
    "version_minor": 0
   }
  }
 },
 "nbformat": 4,
 "nbformat_minor": 4
}
