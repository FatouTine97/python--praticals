{
 "cells": [
  {
   "cell_type": "markdown",
   "metadata": {},
   "source": [
    "<center>\n",
    "    <a href=\"https://www.aims-senegal.org/\" ><img src=\"aimssn_logo.png\" style=\"float:center; max-width: 600px; display: inline\" alt=\"IMSP\"/> </a>\n",
    "    </center>\n",
    "    \n",
    "#    <center> <b> <span style=\"color:orange;\" >  `Python for Scientific Computing and Software Engineering ` </span> </b></center>\n",
    "\n",
    "\n",
    "## <center> <b> <span style=\"color:orange;\"> An Initiation to Programming using Python (Init2Py) </span> </b></center>\n",
    "\n",
    "### <center> <b> <span style=\"color:blue;\"> Practicals: Variables, Types & Operations </span> </b></center>"
   ]
  },
  {
   "cell_type": "markdown",
   "metadata": {},
   "source": [
    "**Exercise 00:**  \n",
    "\n",
    "> 1. Declare a variable `firstname` and assign it a value.\n",
    "> 2. Declare a `lastname` variable and assign a value to it.\n",
    "> 3. Declare a `full_name` variable and assign it a value.\n",
    "> 4. Declare a `country` variable and assign it a value.\n",
    "> 5. Declare a variable `city` and assign it a value.\n",
    "> 6. Declare a `age` variable and assign it a value.\n",
    "> 7. Declare a variable `year` and assign it a value.\n",
    "> 8. Declare a variable `is_marrie` and assign it a value.\n",
    "> 9. Declare a variable `is_true` and assign it a value.\n",
    "\n",
    "> For each of the above variable, display the value it contains using the `print()` function.\n",
    "\n",
    "\n"
   ]
  },
  {
   "cell_type": "code",
   "execution_count": 11,
   "metadata": {},
   "outputs": [
    {
     "name": "stdout",
     "output_type": "stream",
     "text": [
      "2\n",
      "1\n",
      "3\n",
      "5\n",
      "6\n",
      "7\n",
      "8\n",
      "10\n"
     ]
    }
   ],
   "source": [
    "Fatou=2\n",
    "print(Fatou)\n",
    "Tine=1\n",
    "print(Tine)\n",
    "fullname=3\n",
    "print(fullname)\n",
    "country=5\n",
    "print(country)\n",
    "Dakar=6\n",
    "print(Dakar)\n",
    "year=7\n",
    "print(year)\n",
    "ismarie=8\n",
    "print(ismarie)\n",
    "istrue=10\n",
    "print(istrue)"
   ]
  },
  {
   "cell_type": "markdown",
   "metadata": {},
   "source": [
    "**Exercise 01:** \n",
    "> Check the data type of all your variables using the built-in function `type()`.**\n"
   ]
  },
  {
   "cell_type": "code",
   "execution_count": 12,
   "metadata": {},
   "outputs": [
    {
     "name": "stdout",
     "output_type": "stream",
     "text": [
      "1 : 1 <class 'int'>\n",
      "2 : 2 <class 'int'>\n",
      "3 : 3 <class 'int'>\n",
      "4 : 5 <class 'int'>\n",
      "5 : 8 <class 'int'>\n",
      "6 : 13 <class 'int'>\n",
      "7 : 21 <class 'int'>\n",
      "8 : 34 <class 'int'>\n",
      "9 : 55 <class 'int'>\n",
      "10 : 89 <class 'int'>\n",
      "11 : 144 <class 'int'>\n",
      "12 : 233 <class 'int'>\n",
      "13 : 377 <class 'int'>\n",
      "14 : 610 <class 'int'>\n",
      "15 : 987 <class 'int'>\n",
      "16 : 1597 <class 'int'>\n",
      "17 : 2584 <class 'int'>\n",
      "18 : 4181 <class 'int'>\n",
      "19 : 6765 <class 'int'>\n",
      "20 : 10946 <class 'int'>\n",
      "21 : 17711 <class 'int'>\n",
      "22 : 28657 <class 'int'>\n",
      "23 : 46368 <class 'int'>\n",
      "24 : 75025 <class 'int'>\n",
      "25 : 121393 <class 'int'>\n",
      "26 : 196418 <class 'int'>\n",
      "27 : 317811 <class 'int'>\n",
      "28 : 514229 <class 'int'>\n",
      "29 : 832040 <class 'int'>\n",
      "30 : 1346269 <class 'int'>\n",
      "31 : 2178309 <class 'int'>\n",
      "32 : 3524578 <class 'int'>\n",
      "33 : 5702887 <class 'int'>\n",
      "34 : 9227465 <class 'int'>\n",
      "35 : 14930352 <class 'int'>\n",
      "36 : 24157817 <class 'int'>\n",
      "37 : 39088169 <class 'int'>\n",
      "38 : 63245986 <class 'int'>\n",
      "39 : 102334155 <class 'int'>\n",
      "40 : 165580141 <class 'int'>\n",
      "41 : 267914296 <class 'int'>\n",
      "42 : 433494437 <class 'int'>\n",
      "43 : 701408733 <class 'int'>\n",
      "44 : 1134903170 <class 'int'>\n",
      "45 : 1836311903 <class 'int'>\n",
      "46 : 2971215073 <class 'int'>\n",
      "47 : 4807526976 <class 'int'>\n",
      "48 : 7778742049 <class 'int'>\n",
      "49 : 12586269025 <class 'int'>\n"
     ]
    }
   ],
   "source": [
    "a, b, c = 1, 1, 1\n",
    ">>> while c <50:\n",
    "     print(c, \":\", b, type(b))\n",
    "     a, b, c = b, a+b, c+1"
   ]
  },
  {
   "cell_type": "markdown",
   "metadata": {},
   "source": [
    "**Exercise 02:** \n",
    "> Calculate the value of $y$ ($y = x^2 + 6x + 9$). Try using different values of $x$ and determine at what value of $x$ will $y$ be equal to 0.**"
   ]
  },
  {
   "cell_type": "code",
   "execution_count": 26,
   "metadata": {},
   "outputs": [
    {
     "data": {
      "text/plain": [
       "5.5"
      ]
     },
     "execution_count": 26,
     "metadata": {},
     "output_type": "execute_result"
    }
   ],
   "source": [
    "def fonction(x):\n",
    "    y = x + 6*x +9\n",
    "    return y\n",
    "fonction(2)\n",
    "fonction(-5)\n",
    "fonction(-3)\n",
    "fonction(-0.5)\n",
    "\n"
   ]
  },
  {
   "cell_type": "markdown",
   "metadata": {},
   "source": [
    "**Exercise 03:** \n",
    ">    \n",
    "     1. Declare your age as an integer variable\n",
    "     2. Declare your height as a float variable\n",
    "     3. Declare a variable that stores the base and height of a triangle. Calculate the area of this triangle (area = 0.5 x b x h)."
   ]
  },
  {
   "cell_type": "markdown",
   "metadata": {},
   "source": [
    "## *Tip: receiving input from the user *\n",
    "**To receive an input from the user, we use `input()`.**.\n",
    "\n",
    "**Example**\n",
    "Receive two numbers as input from the user and calculate their power:\n",
    "```python\n",
    "base = input(\"Enter a base: \")\n",
    "exponent = input(\"Enter an exponent: \")\n",
    "result = float(base) ** float(exponent)\n",
    "print(f \"{base} to the power of {exponent} = {result}\")\n",
    "```"
   ]
  },
  {
   "cell_type": "markdown",
   "metadata": {},
   "source": [
    "**Exercise 04:** \n",
    "> **Write a small code that asks the user to enter the side $a$, the side $b$ and the side $c$ of a triangle. Calculate the perimeter of the triangle (perimeter = a + b + c).**"
   ]
  },
  {
   "cell_type": "code",
   "execution_count": 27,
   "metadata": {},
   "outputs": [
    {
     "name": "stdout",
     "output_type": "stream",
     "text": [
      "12\n"
     ]
    }
   ],
   "source": [
    "a=4\n",
    "b=4\n",
    "c=4\n",
    "perimeter = a+b+c\n",
    "print(perimeter)"
   ]
  },
  {
   "cell_type": "markdown",
   "metadata": {},
   "source": [
    "**Exercise 05:** \n",
    "> **Obtain the length and width of a rectangle using the prompt. Calculate its `area`and its `perimeter`.**"
   ]
  },
  {
   "cell_type": "code",
   "execution_count": null,
   "metadata": {},
   "outputs": [],
   "source": [
    "largeur = float(input(\"veillez entrer la largeur:\"))\n",
    "longeur = float(input(\"veillez entrer la longeur:\"))\n",
    "S=longeur*largeur\n",
    "P=(longeur+largeur)*2\n",
    "print(\"afficher la surface du rectangle:\",S)\n",
    "print(\"afficher le perimetre du rectangle:\",P)\n"
   ]
  },
  {
   "cell_type": "markdown",
   "metadata": {},
   "source": [
    "**Exercice 06:** \n",
    "> **Obtenez le rayon d'un cercle en utilisant l'invite. Calculez l'aire (aire = pi x r x r) et la circonférence (c = 2 x pi x r) où pi = 3,14.**"
   ]
  },
  {
   "cell_type": "code",
   "execution_count": null,
   "metadata": {},
   "outputs": [],
   "source": [
    "rayon=float(input(\"veillez entrer le rayon:\"))\n",
    "pi=3.14\n",
    "c=2*pi*rayon\n",
    "print(\"afficher l'aire du cercle:\",c)"
   ]
  },
  {
   "cell_type": "markdown",
   "metadata": {},
   "source": [
    "**Exercice 07:**\n",
    "> **Calculez la pente, l'ordonnée à l'origine en x et l'ordonnée à l'origine en $y$ de $y = 2x -2$.**"
   ]
  },
  {
   "cell_type": "code",
   "execution_count": null,
   "metadata": {},
   "outputs": [],
   "source": [
    "import numpy as np\n",
    "\n",
    "x = np.linspace(0, 2, -2)\n",
    "y = a * x + b\n",
    "print(y)"
   ]
  },
  {
   "cell_type": "markdown",
   "metadata": {},
   "source": [
    "Exercice 08:\n",
    "Rédigez un script qui demande à l'utilisateur d'entrer les heures et le taux horaire. Calculez la rémunération de la personne ?"
   ]
  },
  {
   "cell_type": "code",
   "execution_count": null,
   "metadata": {},
   "outputs": [],
   "source": [
    "#1. Définition des variables\n",
    "salairebase=eval(input(\"Entrez le montant du salaire de base : \"))\n",
    "hnsemaine=eval(input(\"Entrez le nombre d'heures travaillées par semaine : \"))\n",
    "hs125=eval(input(\"Entrez le nombre d'heures supplémentaires effectué à 125 % : \"))\n",
    "hs150=eval(input(\"Entrez le nombre d'heures supplémentaires effectué à 150 % : \"))\n",
    "#2. Calcul du nombre d'heures travaillées/mois et des heures supplémentaires\n",
    "hnmois=(hnsemaine*52)/12\n",
    "montanthn=salairebase/hnmois\n",
    "montanths125=montanthn*1.25*hs125\n",
    "montanths150=montanthn*1.5*hs150\n",
    "#3. Affichage des résultats\n",
    "print(\"Nombre d'heures travaillées : \",hnmois,\"H / mois\")\n",
    "print(\"Montant des H.S. à 125 % : \",montanths125,\"€\")\n",
    "print(\"Montant des H.S. à 150 % : \",montanths150,\"€\") "
   ]
  },
  {
   "cell_type": "markdown",
   "metadata": {},
   "source": [
    "**Exercice 09:** \n",
    "> **Écrivez un script qui demande à l'utilisateur d'entrer le nombre d'années. Calculez le nombre de secondes qu'une personne peut vivre. Supposons qu'une personne puisse vivre cent ans.**"
   ]
  },
  {
   "cell_type": "code",
   "execution_count": null,
   "metadata": {},
   "outputs": [],
   "source": []
  },
  {
   "cell_type": "markdown",
   "metadata": {},
   "source": [
    "**Exercice 10:** \n",
    "> **Écrivez un script Python qui affiche le tableau suivant**\n",
    "\n",
    "    1 1 1 1 1\n",
    "    \n",
    "    2 1 2 4 8\n",
    "    \n",
    "    3 1 3 9 27\n",
    "    \n",
    "    4 1 4 16 64\n",
    "    \n",
    "    5 1 5 25 125"
   ]
  },
  {
   "cell_type": "code",
   "execution_count": null,
   "metadata": {},
   "outputs": [],
   "source": []
  },
  {
   "cell_type": "markdown",
   "metadata": {},
   "source": [
    "**Exercise 11:** \n",
    ">**Assign the variables `time` and `distance` with the values $6.892$ and $19.7$. Calculate and display the value of the speed. Improve the display by imposing a digit after the decimal point.**"
   ]
  },
  {
   "cell_type": "code",
   "execution_count": null,
   "metadata": {},
   "outputs": [],
   "source": []
  },
  {
   "cell_type": "markdown",
   "metadata": {},
   "source": [
    "**Exercice 12:** \n",
    "> **Écrire un programme qui, à partir de la saisie d’un rayon et d’une hauteur, calcule levolume d’un cône droit.**"
   ]
  },
  {
   "cell_type": "code",
   "execution_count": null,
   "metadata": {},
   "outputs": [],
   "source": []
  },
  {
   "cell_type": "markdown",
   "metadata": {},
   "source": [
    "**Exercise 13:** \n",
    "> **The user gives a positive integer and the program announces how many times in a row this integer is divisible by 2.**"
   ]
  },
  {
   "cell_type": "code",
   "execution_count": null,
   "metadata": {},
   "outputs": [],
   "source": []
  },
  {
   "cell_type": "markdown",
   "metadata": {},
   "source": [
    "**Exercise 14:** \n",
    ">**The user gives an integer between 2 and 12, the program gives the number of ways to do this by rolling two dice."
   ]
  },
  {
   "cell_type": "code",
   "execution_count": null,
   "metadata": {},
   "outputs": [],
   "source": []
  },
  {
   "cell_type": "markdown",
   "metadata": {},
   "source": [
    "**Exercice 15:** \n",
    "> **Utilisez la fonction d'entrée intégrée `input()` pour obtenir le `_prénom_`, le `_nom_`, le `_pays_d_origine` et l'`_age_` d'un utilisateur et stockez la valeur dans les noms des variables correspondantes.**"
   ]
  },
  {
   "cell_type": "code",
   "execution_count": null,
   "metadata": {},
   "outputs": [],
   "source": []
  },
  {
   "cell_type": "markdown",
   "metadata": {},
   "source": [
    "**Exercice 16:** \n",
    "\n",
    "**Déclarer $5$ comme `num_one` et $4$ comme `num_two`**\n",
    "\n",
    "   1. Additionner `num_one` et `num_two` et affecter la valeur à une variable `totale`.\n",
    "   2. Soustraire `num_two` de `num_one` et affecter la valeur à une variable `diff`.\n",
    "   3. Multipliez le `num_one` et le `num_two` et attribuez la valeur à une variable `produit`.\n",
    "   4. Divisez le `num_one` par le `num_two` et attribuez la valeur à une variable `division`.\n",
    "   5. Calculez `num_one` à la puissance de `num_two` et attribuez la valeur à une variable `exp`."
   ]
  },
  {
   "cell_type": "code",
   "execution_count": null,
   "metadata": {},
   "outputs": [],
   "source": []
  },
  {
   "cell_type": "markdown",
   "metadata": {},
   "source": [
    "<center> <b> <span style=\"color:orange;\"> 🎉 FÉLICITATIONS! / CONGRATULATIONS! 🎉 </span> </b></center>"
   ]
  }
 ],
 "metadata": {
  "kernelspec": {
   "display_name": "Python 3",
   "language": "python",
   "name": "python3"
  },
  "language_info": {
   "codemirror_mode": {
    "name": "ipython",
    "version": 3
   },
   "file_extension": ".py",
   "mimetype": "text/x-python",
   "name": "python",
   "nbconvert_exporter": "python",
   "pygments_lexer": "ipython3",
   "version": "3.7.6"
  }
 },
 "nbformat": 4,
 "nbformat_minor": 5
}
